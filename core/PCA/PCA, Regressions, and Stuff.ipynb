{
 "cells": [
  {
   "cell_type": "markdown",
   "id": "1730c2ef",
   "metadata": {},
   "source": [
    "## BASIC PACKAGES"
   ]
  },
  {
   "cell_type": "code",
   "execution_count": 2,
   "id": "0d21c102",
   "metadata": {},
   "outputs": [],
   "source": [
    "import matplotlib.pyplot as plt\n",
    "import pandas as pd\n",
    "import numpy as np"
   ]
  },
  {
   "cell_type": "markdown",
   "id": "0563e367",
   "metadata": {},
   "source": [
    "# DATASETS"
   ]
  },
  {
   "cell_type": "code",
   "execution_count": 3,
   "id": "f19640a8",
   "metadata": {},
   "outputs": [],
   "source": [
    "T_set = pd.read_csv(\"InsNova_data_2023_train.csv\")"
   ]
  },
  {
   "cell_type": "code",
   "execution_count": 4,
   "id": "9c6fa9a8",
   "metadata": {},
   "outputs": [],
   "source": [
    "T_numerical = T_set.loc[:, [\"veh_value\", \"exposure\", \"veh_age\",\n",
    "                    \"agecat\", \"max_power\", \"driving_history_score\",\n",
    "                   \"e_bill\", \"trm_len\", \"credit_score\", \"high_education_ind\",\n",
    "                   \"clm\", \"numclaims\", \"claimcst0\"]]"
   ]
  },
  {
   "cell_type": "code",
   "execution_count": 5,
   "id": "bcb82364",
   "metadata": {},
   "outputs": [],
   "source": [
    "T_response = T_numerical[[\"veh_value\", \"exposure\", \"veh_age\",\n",
    "                    \"agecat\", \"max_power\", \"driving_history_score\",\n",
    "                   \"e_bill\", \"trm_len\", \"credit_score\", \"high_education_ind\"]]"
   ]
  },
  {
   "cell_type": "code",
   "execution_count": 6,
   "id": "49a663d5",
   "metadata": {},
   "outputs": [],
   "source": [
    "T_claim = T_numerical[\"claimcst0\"]"
   ]
  },
  {
   "cell_type": "code",
   "execution_count": 12,
   "id": "666d1364",
   "metadata": {},
   "outputs": [],
   "source": [
    "def include_0_claim_amounts(ans):\n",
    "    if ans == \"yes\":\n",
    "        T_response = T_numerical[[\"veh_value\", \"exposure\", \"veh_age\",\n",
    "                    \"agecat\", \"max_power\", \"driving_history_score\",\n",
    "                   \"e_bill\", \"trm_len\", \"credit_score\", \"high_education_ind\"]].iloc[(T_numerical[\"claimcst0\"] != 0).values]\n",
    "        T_claim = T_numerical[\"claimcst0\"].iloc[(T_numerical[\"claimcst0\"] != 0).values]\n",
    "    if ans == \"no\":\n",
    "        T_response = T_numerical[[\"veh_value\", \"exposure\", \"veh_age\",\n",
    "                                  \"agecat\", \"max_power\", \"driving_history_score\",\n",
    "                                  \"e_bill\", \"trm_len\", \"credit_score\", \"high_education_ind\"]]\n",
    "        T_claim = T_numerical[\"claimcst0\"]\n",
    "    \n",
    "    return T_response, T_claim"
   ]
  },
  {
   "cell_type": "markdown",
   "id": "08a58301",
   "metadata": {},
   "source": [
    "## PCA"
   ]
  },
  {
   "cell_type": "code",
   "execution_count": 80,
   "id": "3475cbb9",
   "metadata": {},
   "outputs": [],
   "source": [
    "T_r, T_c = include_0_claim_amounts(\"yes\")\n",
    "T_rn, T_cn = include_0_claim_amounts(\"no\")"
   ]
  },
  {
   "cell_type": "code",
   "execution_count": 89,
   "id": "0e4559aa",
   "metadata": {},
   "outputs": [],
   "source": [
    "from sklearn.decomposition import PCA\n",
    "from sklearn.preprocessing import StandardScaler as SS"
   ]
  },
  {
   "cell_type": "code",
   "execution_count": 94,
   "id": "9f3e9ac8",
   "metadata": {
    "scrolled": true
   },
   "outputs": [
    {
     "data": {
      "text/plain": [
       "1542"
      ]
     },
     "execution_count": 94,
     "metadata": {},
     "output_type": "execute_result"
    }
   ],
   "source": [
    "scaled_data = preprocessing.scale(T_r.T)\n",
    "scaled_data_n = preprocessing.scale(T_rn.T)\n",
    "scaled_data_c = preprocessing.scale(T_c.T)\n",
    "scaled_data_cn = preprocessing.scale(T_cn.T)\n",
    " \n",
    "pca = PCA().fit(scaled_data)\n",
    "pca_n = PCA().fit(scaled_data_n)\n",
    "\n",
    "pca_data = pca.transform(scaled_data)\n",
    "pca_data_n = pca_n.transform(scaled_data_n)\n",
    "\n",
    "len(scaled_data[0])"
   ]
  },
  {
   "cell_type": "code",
   "execution_count": 83,
   "id": "1877b9a7",
   "metadata": {},
   "outputs": [],
   "source": [
    "pca = PCA().fit(T_r)\n",
    "pca_n = PCA().fit(T_rn)\n",
    "\n",
    "pca_data = pca.transform(T_r)\n",
    "pca_data_n = pca_n.transform(T_rn)"
   ]
  },
  {
   "cell_type": "code",
   "execution_count": 84,
   "id": "45f6f760",
   "metadata": {
    "scrolled": false
   },
   "outputs": [
    {
     "data": {
      "image/png": "[encoded data removed]",
      "text/plain": [
       "<Figure size 720x504 with 1 Axes>"
      ]
     },
     "metadata": {
      "needs_background": "light"
     },
     "output_type": "display_data"
    }
   ],
   "source": [
    "per_var = np.round(pca.explained_variance_ratio_* 100, decimals=1)\n",
    "labels = ['PC' + str(x) for x in range(1, len(per_var)+1)]\n",
    " \n",
    "fig, ax = plt.subplots(figsize =(10, 7))\n",
    "ax.bar(x=range(1,len(per_var)+1), height=per_var, tick_label=labels)\n",
    "plt.ylabel('Percentage of Explained Variance')\n",
    "plt.xlabel('Principal Component')\n",
    "plt.title('Scree Plot (Regular)')\n",
    "plt.show()"
   ]
  },
  {
   "cell_type": "code",
   "execution_count": 76,
   "id": "db48154d",
   "metadata": {
    "scrolled": false
   },
   "outputs": [
    {
     "data": {
      "image/png": "[encoded data removed]",
      "text/plain": [
       "<Figure size 720x504 with 1 Axes>"
      ]
     },
     "metadata": {
      "needs_background": "light"
     },
     "output_type": "display_data"
    }
   ],
   "source": [
    "per_var = np.round(pca_n.explained_variance_ratio_* 100, decimals=1)\n",
    "labels = ['PC' + str(x) for x in range(1, len(per_var)+1)]\n",
    " \n",
    "fig, ax = plt.subplots(figsize =(10, 7))\n",
    "ax.bar(x=range(1,len(per_var)+1), height=per_var, tick_label=labels)\n",
    "plt.ylabel('Percentage of Explained Variance')\n",
    "plt.xlabel('Principal Component')\n",
    "plt.title('Scree Plot (Non-Zero)')\n",
    "plt.show()"
   ]
  },
  {
   "cell_type": "code",
   "execution_count": 77,
   "id": "84877ff4",
   "metadata": {},
   "outputs": [
    {
     "data": {
      "text/html": [
       "<div>\n",
       "<style scoped>\n",
       "    .dataframe tbody tr th:only-of-type {\n",
       "        vertical-align: middle;\n",
       "    }\n",
       "\n",
       "    .dataframe tbody tr th {\n",
       "        vertical-align: top;\n",
       "    }\n",
       "\n",
       "    .dataframe thead th {\n",
       "        text-align: right;\n",
       "    }\n",
       "</style>\n",
       "<table border=\"1\" class=\"dataframe\">\n",
       "  <thead>\n",
       "    <tr style=\"text-align: right;\">\n",
       "      <th></th>\n",
       "      <th>PC_1</th>\n",
       "      <th>PC_2</th>\n",
       "      <th>PC_3</th>\n",
       "      <th>PC_4</th>\n",
       "      <th>PC_5</th>\n",
       "      <th>PC_6</th>\n",
       "      <th>PC_7</th>\n",
       "      <th>PC_8</th>\n",
       "      <th>PC_9</th>\n",
       "      <th>PC_10</th>\n",
       "    </tr>\n",
       "  </thead>\n",
       "  <tbody>\n",
       "    <tr>\n",
       "      <th>0</th>\n",
       "      <td>-79.069999</td>\n",
       "      <td>-20.394560</td>\n",
       "      <td>-7.680823</td>\n",
       "      <td>-1.497742</td>\n",
       "      <td>1.546139</td>\n",
       "      <td>0.174770</td>\n",
       "      <td>-0.226947</td>\n",
       "      <td>-0.318748</td>\n",
       "      <td>-0.167176</td>\n",
       "      <td>-0.063883</td>\n",
       "    </tr>\n",
       "    <tr>\n",
       "      <th>1</th>\n",
       "      <td>-81.707796</td>\n",
       "      <td>-0.315797</td>\n",
       "      <td>1.630424</td>\n",
       "      <td>4.557450</td>\n",
       "      <td>0.456475</td>\n",
       "      <td>0.330586</td>\n",
       "      <td>-0.322237</td>\n",
       "      <td>-0.186535</td>\n",
       "      <td>0.847342</td>\n",
       "      <td>0.136275</td>\n",
       "    </tr>\n",
       "    <tr>\n",
       "      <th>2</th>\n",
       "      <td>-7.164092</td>\n",
       "      <td>36.526919</td>\n",
       "      <td>-3.311018</td>\n",
       "      <td>4.542211</td>\n",
       "      <td>-0.970658</td>\n",
       "      <td>-0.799718</td>\n",
       "      <td>-0.348046</td>\n",
       "      <td>0.527079</td>\n",
       "      <td>-0.295763</td>\n",
       "      <td>-0.035735</td>\n",
       "    </tr>\n",
       "    <tr>\n",
       "      <th>3</th>\n",
       "      <td>77.284403</td>\n",
       "      <td>2.217389</td>\n",
       "      <td>-10.019491</td>\n",
       "      <td>-1.695848</td>\n",
       "      <td>2.072489</td>\n",
       "      <td>-0.960669</td>\n",
       "      <td>-0.080541</td>\n",
       "      <td>0.759061</td>\n",
       "      <td>0.707386</td>\n",
       "      <td>0.073599</td>\n",
       "    </tr>\n",
       "    <tr>\n",
       "      <th>4</th>\n",
       "      <td>88.275124</td>\n",
       "      <td>-4.843571</td>\n",
       "      <td>9.435160</td>\n",
       "      <td>-1.719446</td>\n",
       "      <td>-0.276710</td>\n",
       "      <td>2.091427</td>\n",
       "      <td>-0.816534</td>\n",
       "      <td>-0.246053</td>\n",
       "      <td>-0.173704</td>\n",
       "      <td>-0.082984</td>\n",
       "    </tr>\n",
       "    <tr>\n",
       "      <th>...</th>\n",
       "      <td>...</td>\n",
       "      <td>...</td>\n",
       "      <td>...</td>\n",
       "      <td>...</td>\n",
       "      <td>...</td>\n",
       "      <td>...</td>\n",
       "      <td>...</td>\n",
       "      <td>...</td>\n",
       "      <td>...</td>\n",
       "      <td>...</td>\n",
       "    </tr>\n",
       "    <tr>\n",
       "      <th>1537</th>\n",
       "      <td>-11.630492</td>\n",
       "      <td>7.583812</td>\n",
       "      <td>-7.400057</td>\n",
       "      <td>-1.549339</td>\n",
       "      <td>0.133216</td>\n",
       "      <td>-0.817165</td>\n",
       "      <td>1.070173</td>\n",
       "      <td>-0.315096</td>\n",
       "      <td>0.878429</td>\n",
       "      <td>0.047377</td>\n",
       "    </tr>\n",
       "    <tr>\n",
       "      <th>1538</th>\n",
       "      <td>23.983444</td>\n",
       "      <td>45.061596</td>\n",
       "      <td>-1.354223</td>\n",
       "      <td>4.537962</td>\n",
       "      <td>0.325855</td>\n",
       "      <td>0.580117</td>\n",
       "      <td>-0.467226</td>\n",
       "      <td>-0.210277</td>\n",
       "      <td>0.839294</td>\n",
       "      <td>0.143995</td>\n",
       "    </tr>\n",
       "    <tr>\n",
       "      <th>1539</th>\n",
       "      <td>-64.816813</td>\n",
       "      <td>-12.483674</td>\n",
       "      <td>17.117053</td>\n",
       "      <td>4.482913</td>\n",
       "      <td>-2.529471</td>\n",
       "      <td>0.732170</td>\n",
       "      <td>-0.637499</td>\n",
       "      <td>-0.377608</td>\n",
       "      <td>-0.212448</td>\n",
       "      <td>0.153146</td>\n",
       "    </tr>\n",
       "    <tr>\n",
       "      <th>1540</th>\n",
       "      <td>2.009169</td>\n",
       "      <td>-20.554818</td>\n",
       "      <td>5.222523</td>\n",
       "      <td>-1.610336</td>\n",
       "      <td>1.750049</td>\n",
       "      <td>1.447523</td>\n",
       "      <td>0.608934</td>\n",
       "      <td>-0.286550</td>\n",
       "      <td>-0.171673</td>\n",
       "      <td>-0.029649</td>\n",
       "    </tr>\n",
       "    <tr>\n",
       "      <th>1541</th>\n",
       "      <td>-5.508728</td>\n",
       "      <td>13.530260</td>\n",
       "      <td>0.244891</td>\n",
       "      <td>-1.535632</td>\n",
       "      <td>-2.324804</td>\n",
       "      <td>1.791667</td>\n",
       "      <td>-1.233042</td>\n",
       "      <td>-0.296419</td>\n",
       "      <td>-0.177563</td>\n",
       "      <td>-0.141303</td>\n",
       "    </tr>\n",
       "  </tbody>\n",
       "</table>\n",
       "<p>1542 rows × 10 columns</p>\n",
       "</div>"
      ],
      "text/plain": [
       "           PC_1       PC_2       PC_3      PC_4      PC_5      PC_6      PC_7  \\\n",
       "0    -79.069999 -20.394560  -7.680823 -1.497742  1.546139  0.174770 -0.226947   \n",
       "1    -81.707796  -0.315797   1.630424  4.557450  0.456475  0.330586 -0.322237   \n",
       "2     -7.164092  36.526919  -3.311018  4.542211 -0.970658 -0.799718 -0.348046   \n",
       "3     77.284403   2.217389 -10.019491 -1.695848  2.072489 -0.960669 -0.080541   \n",
       "4     88.275124  -4.843571   9.435160 -1.719446 -0.276710  2.091427 -0.816534   \n",
       "...         ...        ...        ...       ...       ...       ...       ...   \n",
       "1537 -11.630492   7.583812  -7.400057 -1.549339  0.133216 -0.817165  1.070173   \n",
       "1538  23.983444  45.061596  -1.354223  4.537962  0.325855  0.580117 -0.467226   \n",
       "1539 -64.816813 -12.483674  17.117053  4.482913 -2.529471  0.732170 -0.637499   \n",
       "1540   2.009169 -20.554818   5.222523 -1.610336  1.750049  1.447523  0.608934   \n",
       "1541  -5.508728  13.530260   0.244891 -1.535632 -2.324804  1.791667 -1.233042   \n",
       "\n",
       "          PC_8      PC_9     PC_10  \n",
       "0    -0.318748 -0.167176 -0.063883  \n",
       "1    -0.186535  0.847342  0.136275  \n",
       "2     0.527079 -0.295763 -0.035735  \n",
       "3     0.759061  0.707386  0.073599  \n",
       "4    -0.246053 -0.173704 -0.082984  \n",
       "...        ...       ...       ...  \n",
       "1537 -0.315096  0.878429  0.047377  \n",
       "1538 -0.210277  0.839294  0.143995  \n",
       "1539 -0.377608 -0.212448  0.153146  \n",
       "1540 -0.286550 -0.171673 -0.029649  \n",
       "1541 -0.296419 -0.177563 -0.141303  \n",
       "\n",
       "[1542 rows x 10 columns]"
      ]
     },
     "execution_count": 77,
     "metadata": {},
     "output_type": "execute_result"
    }
   ],
   "source": [
    "df = pd.DataFrame(data = pca_data,\n",
    "                  columns=[\"PC_1\", \"PC_2\", \"PC_3\", \"PC_4\", \"PC_5\",\n",
    "                           \"PC_6\", \"PC_7\", \"PC_8\", \"PC_9\", \"PC_10\"])\n",
    "df"
   ]
  },
  {
   "cell_type": "code",
   "execution_count": 78,
   "id": "15d8a467",
   "metadata": {},
   "outputs": [
    {
     "data": {
      "text/plain": [
       "12         209.047053\n",
       "48        1586.249277\n",
       "78         212.451560\n",
       "85        2463.345293\n",
       "87       33895.135760\n",
       "             ...     \n",
       "22581     8566.158611\n",
       "22583      239.981071\n",
       "22587      685.432264\n",
       "22614      280.403348\n",
       "22616     1253.261110\n",
       "Name: claimcst0, Length: 1542, dtype: float64"
      ]
     },
     "execution_count": 78,
     "metadata": {},
     "output_type": "execute_result"
    }
   ],
   "source": [
    "T_c"
   ]
  },
  {
   "cell_type": "code",
   "execution_count": 79,
   "id": "961c7da4",
   "metadata": {},
   "outputs": [],
   "source": [
    "df_n = pd.DataFrame(data = pca_data_n,\n",
    "                    columns=[\"PC_1\", \"PC_2\", \"PC_3\", \"PC_4\", \"PC_5\",\n",
    "                             \"PC_6\", \"PC_7\", \"PC_8\", \"PC_9\", \"PC_10\"])\n",
    "df_n = df_n[[\"PC_1\", \"PC_2\", \"PC_3\"]]"
   ]
  },
  {
   "cell_type": "markdown",
   "id": "be75c3bd",
   "metadata": {},
   "source": [
    "## SETUP FOR REGRESSIONS"
   ]
  },
  {
   "cell_type": "code",
   "execution_count": 37,
   "id": "f280cdec",
   "metadata": {},
   "outputs": [],
   "source": [
    "response_varb = [\"PC_1\", \"PC_2\", \"PC_3\"]"
   ]
  },
  {
   "cell_type": "code",
   "execution_count": 40,
   "id": "1f652146",
   "metadata": {},
   "outputs": [],
   "source": [
    "from itertools import combinations\n",
    "from itertools import permutations"
   ]
  },
  {
   "cell_type": "code",
   "execution_count": 42,
   "id": "c231942c",
   "metadata": {},
   "outputs": [],
   "source": [
    "res_comb = []\n",
    "\n",
    "for n in range(1,4):\n",
    "    r_c = list(combinations(response_varb, n))\n",
    "    \n",
    "    for r in r_c:\n",
    "        res_comb.append(list(r))"
   ]
  },
  {
   "cell_type": "code",
   "execution_count": 43,
   "id": "9e6ad593",
   "metadata": {},
   "outputs": [],
   "source": [
    "res_perm = []\n",
    "\n",
    "for n in range(1,4):\n",
    "    r_p = list(permutations(response_varb, n))\n",
    "    \n",
    "    for r in r_p:\n",
    "        res_perm.append(list(r))"
   ]
  },
  {
   "cell_type": "markdown",
   "id": "e4993aef",
   "metadata": {},
   "source": [
    "## MULTIPLE LINEAR REGRESSION"
   ]
  },
  {
   "cell_type": "code",
   "execution_count": 49,
   "id": "58275b3c",
   "metadata": {},
   "outputs": [],
   "source": [
    "from sklearn.linear_model import LinearRegression\n",
    "from sklearn.model_selection import train_test_split\n",
    "from sklearn.metrics import mean_squared_error\n",
    "from scipy.stats import f"
   ]
  },
  {
   "cell_type": "code",
   "execution_count": 52,
   "id": "0b164313",
   "metadata": {},
   "outputs": [
    {
     "name": "stdout",
     "output_type": "stream",
     "text": [
      "12         209.047053\n",
      "48        1586.249277\n",
      "78         212.451560\n",
      "85        2463.345293\n",
      "87       33895.135760\n",
      "             ...     \n",
      "22581     8566.158611\n",
      "22583      239.981071\n",
      "22587      685.432264\n",
      "22614      280.403348\n",
      "22616     1253.261110\n",
      "Name: claimcst0, Length: 1542, dtype: float64\n",
      "1542\n",
      "10\n"
     ]
    },
    {
     "ename": "ValueError",
     "evalue": "Found input variables with inconsistent numbers of samples: [10, 1542]",
     "output_type": "error",
     "traceback": [
      "\u001b[1;31m---------------------------------------------------------------------------\u001b[0m",
      "\u001b[1;31mValueError\u001b[0m                                Traceback (most recent call last)",
      "\u001b[1;32m~\\AppData\\Local\\Temp/ipykernel_13100/2391020503.py\u001b[0m in \u001b[0;36m<module>\u001b[1;34m\u001b[0m\n\u001b[0;32m     11\u001b[0m     \u001b[0mprint\u001b[0m\u001b[1;33m(\u001b[0m\u001b[0mlen\u001b[0m\u001b[1;33m(\u001b[0m\u001b[0mT_x\u001b[0m\u001b[1;33m)\u001b[0m\u001b[1;33m)\u001b[0m\u001b[1;33m\u001b[0m\u001b[1;33m\u001b[0m\u001b[0m\n\u001b[0;32m     12\u001b[0m \u001b[1;33m\u001b[0m\u001b[0m\n\u001b[1;32m---> 13\u001b[1;33m     \u001b[0mmodel\u001b[0m \u001b[1;33m=\u001b[0m \u001b[0mLinearRegression\u001b[0m\u001b[1;33m(\u001b[0m\u001b[1;33m)\u001b[0m\u001b[1;33m.\u001b[0m\u001b[0mfit\u001b[0m\u001b[1;33m(\u001b[0m\u001b[0mT_x\u001b[0m\u001b[1;33m,\u001b[0m \u001b[0mT_c\u001b[0m\u001b[1;33m)\u001b[0m\u001b[1;33m\u001b[0m\u001b[1;33m\u001b[0m\u001b[0m\n\u001b[0m\u001b[0;32m     14\u001b[0m \u001b[1;33m\u001b[0m\u001b[0m\n\u001b[0;32m     15\u001b[0m     \u001b[0mRsq\u001b[0m \u001b[1;33m=\u001b[0m \u001b[0mmodel\u001b[0m\u001b[1;33m.\u001b[0m\u001b[0mscore\u001b[0m\u001b[1;33m(\u001b[0m\u001b[0mT_x\u001b[0m\u001b[1;33m,\u001b[0m \u001b[0mT_c\u001b[0m\u001b[1;33m)\u001b[0m\u001b[1;33m\u001b[0m\u001b[1;33m\u001b[0m\u001b[0m\n",
      "\u001b[1;32m~\\Downloads\\Anaconda\\lib\\site-packages\\sklearn\\linear_model\\_base.py\u001b[0m in \u001b[0;36mfit\u001b[1;34m(self, X, y, sample_weight)\u001b[0m\n\u001b[0;32m    516\u001b[0m         \u001b[0maccept_sparse\u001b[0m \u001b[1;33m=\u001b[0m \u001b[1;32mFalse\u001b[0m \u001b[1;32mif\u001b[0m \u001b[0mself\u001b[0m\u001b[1;33m.\u001b[0m\u001b[0mpositive\u001b[0m \u001b[1;32melse\u001b[0m \u001b[1;33m[\u001b[0m\u001b[1;34m'csr'\u001b[0m\u001b[1;33m,\u001b[0m \u001b[1;34m'csc'\u001b[0m\u001b[1;33m,\u001b[0m \u001b[1;34m'coo'\u001b[0m\u001b[1;33m]\u001b[0m\u001b[1;33m\u001b[0m\u001b[1;33m\u001b[0m\u001b[0m\n\u001b[0;32m    517\u001b[0m \u001b[1;33m\u001b[0m\u001b[0m\n\u001b[1;32m--> 518\u001b[1;33m         X, y = self._validate_data(X, y, accept_sparse=accept_sparse,\n\u001b[0m\u001b[0;32m    519\u001b[0m                                    y_numeric=True, multi_output=True)\n\u001b[0;32m    520\u001b[0m \u001b[1;33m\u001b[0m\u001b[0m\n",
      "\u001b[1;32m~\\Downloads\\Anaconda\\lib\\site-packages\\sklearn\\base.py\u001b[0m in \u001b[0;36m_validate_data\u001b[1;34m(self, X, y, reset, validate_separately, **check_params)\u001b[0m\n\u001b[0;32m    431\u001b[0m                 \u001b[0my\u001b[0m \u001b[1;33m=\u001b[0m \u001b[0mcheck_array\u001b[0m\u001b[1;33m(\u001b[0m\u001b[0my\u001b[0m\u001b[1;33m,\u001b[0m \u001b[1;33m**\u001b[0m\u001b[0mcheck_y_params\u001b[0m\u001b[1;33m)\u001b[0m\u001b[1;33m\u001b[0m\u001b[1;33m\u001b[0m\u001b[0m\n\u001b[0;32m    432\u001b[0m             \u001b[1;32melse\u001b[0m\u001b[1;33m:\u001b[0m\u001b[1;33m\u001b[0m\u001b[1;33m\u001b[0m\u001b[0m\n\u001b[1;32m--> 433\u001b[1;33m                 \u001b[0mX\u001b[0m\u001b[1;33m,\u001b[0m \u001b[0my\u001b[0m \u001b[1;33m=\u001b[0m \u001b[0mcheck_X_y\u001b[0m\u001b[1;33m(\u001b[0m\u001b[0mX\u001b[0m\u001b[1;33m,\u001b[0m \u001b[0my\u001b[0m\u001b[1;33m,\u001b[0m \u001b[1;33m**\u001b[0m\u001b[0mcheck_params\u001b[0m\u001b[1;33m)\u001b[0m\u001b[1;33m\u001b[0m\u001b[1;33m\u001b[0m\u001b[0m\n\u001b[0m\u001b[0;32m    434\u001b[0m             \u001b[0mout\u001b[0m \u001b[1;33m=\u001b[0m \u001b[0mX\u001b[0m\u001b[1;33m,\u001b[0m \u001b[0my\u001b[0m\u001b[1;33m\u001b[0m\u001b[1;33m\u001b[0m\u001b[0m\n\u001b[0;32m    435\u001b[0m \u001b[1;33m\u001b[0m\u001b[0m\n",
      "\u001b[1;32m~\\Downloads\\Anaconda\\lib\\site-packages\\sklearn\\utils\\validation.py\u001b[0m in \u001b[0;36minner_f\u001b[1;34m(*args, **kwargs)\u001b[0m\n\u001b[0;32m     61\u001b[0m             \u001b[0mextra_args\u001b[0m \u001b[1;33m=\u001b[0m \u001b[0mlen\u001b[0m\u001b[1;33m(\u001b[0m\u001b[0margs\u001b[0m\u001b[1;33m)\u001b[0m \u001b[1;33m-\u001b[0m \u001b[0mlen\u001b[0m\u001b[1;33m(\u001b[0m\u001b[0mall_args\u001b[0m\u001b[1;33m)\u001b[0m\u001b[1;33m\u001b[0m\u001b[1;33m\u001b[0m\u001b[0m\n\u001b[0;32m     62\u001b[0m             \u001b[1;32mif\u001b[0m \u001b[0mextra_args\u001b[0m \u001b[1;33m<=\u001b[0m \u001b[1;36m0\u001b[0m\u001b[1;33m:\u001b[0m\u001b[1;33m\u001b[0m\u001b[1;33m\u001b[0m\u001b[0m\n\u001b[1;32m---> 63\u001b[1;33m                 \u001b[1;32mreturn\u001b[0m \u001b[0mf\u001b[0m\u001b[1;33m(\u001b[0m\u001b[1;33m*\u001b[0m\u001b[0margs\u001b[0m\u001b[1;33m,\u001b[0m \u001b[1;33m**\u001b[0m\u001b[0mkwargs\u001b[0m\u001b[1;33m)\u001b[0m\u001b[1;33m\u001b[0m\u001b[1;33m\u001b[0m\u001b[0m\n\u001b[0m\u001b[0;32m     64\u001b[0m \u001b[1;33m\u001b[0m\u001b[0m\n\u001b[0;32m     65\u001b[0m             \u001b[1;31m# extra_args > 0\u001b[0m\u001b[1;33m\u001b[0m\u001b[1;33m\u001b[0m\u001b[0m\n",
      "\u001b[1;32m~\\Downloads\\Anaconda\\lib\\site-packages\\sklearn\\utils\\validation.py\u001b[0m in \u001b[0;36mcheck_X_y\u001b[1;34m(X, y, accept_sparse, accept_large_sparse, dtype, order, copy, force_all_finite, ensure_2d, allow_nd, multi_output, ensure_min_samples, ensure_min_features, y_numeric, estimator)\u001b[0m\n\u001b[0;32m    886\u001b[0m         \u001b[0my\u001b[0m \u001b[1;33m=\u001b[0m \u001b[0my\u001b[0m\u001b[1;33m.\u001b[0m\u001b[0mastype\u001b[0m\u001b[1;33m(\u001b[0m\u001b[0mnp\u001b[0m\u001b[1;33m.\u001b[0m\u001b[0mfloat64\u001b[0m\u001b[1;33m)\u001b[0m\u001b[1;33m\u001b[0m\u001b[1;33m\u001b[0m\u001b[0m\n\u001b[0;32m    887\u001b[0m \u001b[1;33m\u001b[0m\u001b[0m\n\u001b[1;32m--> 888\u001b[1;33m     \u001b[0mcheck_consistent_length\u001b[0m\u001b[1;33m(\u001b[0m\u001b[0mX\u001b[0m\u001b[1;33m,\u001b[0m \u001b[0my\u001b[0m\u001b[1;33m)\u001b[0m\u001b[1;33m\u001b[0m\u001b[1;33m\u001b[0m\u001b[0m\n\u001b[0m\u001b[0;32m    889\u001b[0m \u001b[1;33m\u001b[0m\u001b[0m\n\u001b[0;32m    890\u001b[0m     \u001b[1;32mreturn\u001b[0m \u001b[0mX\u001b[0m\u001b[1;33m,\u001b[0m \u001b[0my\u001b[0m\u001b[1;33m\u001b[0m\u001b[1;33m\u001b[0m\u001b[0m\n",
      "\u001b[1;32m~\\Downloads\\Anaconda\\lib\\site-packages\\sklearn\\utils\\validation.py\u001b[0m in \u001b[0;36mcheck_consistent_length\u001b[1;34m(*arrays)\u001b[0m\n\u001b[0;32m    317\u001b[0m     \u001b[0muniques\u001b[0m \u001b[1;33m=\u001b[0m \u001b[0mnp\u001b[0m\u001b[1;33m.\u001b[0m\u001b[0munique\u001b[0m\u001b[1;33m(\u001b[0m\u001b[0mlengths\u001b[0m\u001b[1;33m)\u001b[0m\u001b[1;33m\u001b[0m\u001b[1;33m\u001b[0m\u001b[0m\n\u001b[0;32m    318\u001b[0m     \u001b[1;32mif\u001b[0m \u001b[0mlen\u001b[0m\u001b[1;33m(\u001b[0m\u001b[0muniques\u001b[0m\u001b[1;33m)\u001b[0m \u001b[1;33m>\u001b[0m \u001b[1;36m1\u001b[0m\u001b[1;33m:\u001b[0m\u001b[1;33m\u001b[0m\u001b[1;33m\u001b[0m\u001b[0m\n\u001b[1;32m--> 319\u001b[1;33m         raise ValueError(\"Found input variables with inconsistent numbers of\"\n\u001b[0m\u001b[0;32m    320\u001b[0m                          \" samples: %r\" % [int(l) for l in lengths])\n\u001b[0;32m    321\u001b[0m \u001b[1;33m\u001b[0m\u001b[0m\n",
      "\u001b[1;31mValueError\u001b[0m: Found input variables with inconsistent numbers of samples: [10, 1542]"
     ]
    }
   ],
   "source": [
    "alpha = 0.05\n",
    "\n",
    "best_p_val = 1\n",
    "best_reg_varb = []\n",
    "n = len(T_c)\n",
    "print(T_c)\n",
    "print(n)\n",
    "\n",
    "for r_c in res_comb:\n",
    "    T_x = df[r_c]\n",
    "    print(len(T_x))\n",
    "        \n",
    "    model = LinearRegression().fit(T_x, T_c)\n",
    "    \n",
    "    Rsq = model.score(T_x, T_c)\n",
    "    k = len(r_c)\n",
    "    \n",
    "    F_score = (Rsq / k) / ((1 - Rsq) / (n - k - 1))\n",
    "    \n",
    "    p_val = 1 - f.cdf(F_score, k, n-k-1)\n",
    "    print(f\"Regression: {r_c}\")\n",
    "    \n",
    "    if p_val <= alpha:\n",
    "        print(f\"\\tPasses at {alpha} level of significance\")\n",
    "    \n",
    "    if p_val <= alpha and p_val <= best_p_val:\n",
    "        best_p_val = p_val\n",
    "        best_reg_varb = r_c\n",
    "    \n",
    "    print(f\"\\tP-Value: {p_val}\")\n",
    "    \n",
    "    print(\"\")\n",
    "\n",
    "print(\"\\n\")\n",
    "\n",
    "print(f\"BEST Regression: {best_reg_varb}\")\n",
    "print(f\"\\tP-Value: {best_p_val}\")\n",
    "\n",
    "print(\"\")"
   ]
  },
  {
   "cell_type": "code",
   "execution_count": 26,
   "id": "f9c59da1",
   "metadata": {},
   "outputs": [
    {
     "name": "stdout",
     "output_type": "stream",
     "text": [
      "\tPasses at 0.05 level of significance\n",
      "\tP-Value: 0.0397663404001396\n"
     ]
    },
    {
     "data": {
      "image/png": "[encoded data removed]",
      "text/plain": [
       "<Figure size 432x288 with 1 Axes>"
      ]
     },
     "metadata": {
      "needs_background": "light"
     },
     "output_type": "display_data"
    }
   ],
   "source": [
    "alpha = 0.05\n",
    "\n",
    "best_p_val = 1\n",
    "best_p_r = []\n",
    "\n",
    "T_x = df[[\"veh_value\", \"exposure\", \"veh_age\",\"agecat\"]]\n",
    "T_y = df[\"claimcst0\"]\n",
    "\n",
    "n = len(T_y)\n",
    "k = 3\n",
    "\n",
    "the_reg_object = LinearRegression().fit(T_x, T_y)\n",
    "\n",
    "Rsq = the_reg_object.score(T_x, T_y)\n",
    "\n",
    "F_score = (Rsq / k) / ((1 - Rsq) / (n - k - 1))\n",
    "\n",
    "p_val = 1 - f.cdf(F_score, k, n-k-1)\n",
    "\n",
    "if p_val <= alpha:\n",
    "    print(f\"\\tPasses at {alpha} level of significance\")\n",
    "\n",
    "print(f\"\\tP-Value: {p_val}\")\n",
    "\n",
    "plt.scatter(the_reg_object.predict(T_x), the_reg_object.predict(T_x) - T_y, s=10)\n",
    " \n",
    "plt.hlines(y=0, xmin=0, xmax=50, linewidth=2)\n",
    "plt.title(\"Residual errors\")\n",
    "plt.show()"
   ]
  }
 ],
 "metadata": {
  "kernelspec": {
   "display_name": "Python 3 (ipykernel)",
   "language": "python",
   "name": "python3"
  },
  "language_info": {
   "codemirror_mode": {
    "name": "ipython",
    "version": 3
   },
   "file_extension": ".py",
   "mimetype": "text/x-python",
   "name": "python",
   "nbconvert_exporter": "python",
   "pygments_lexer": "ipython3",
   "version": "3.9.7"
  }
 },
 "nbformat": 4,
 "nbformat_minor": 5
}
